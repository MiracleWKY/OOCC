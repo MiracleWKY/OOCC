{
 "cells": [
  {
   "cell_type": "code",
   "execution_count": null,
   "metadata": {},
   "outputs": [
    {
     "name": "stdout",
     "output_type": "stream",
     "text": [
      "/Users/chris/Desktop/4448/Project\n"
     ]
    }
   ],
   "source": [
    "import tkinter as tk  \n",
    "import os\n",
    "from PIL import Image, ImageTk\n",
    "cwd = os.getcwd()\n",
    "\n",
    "print(cwd)\n",
    "\n",
    "window = tk.Tk()\n",
    "window.resizable(False, False) \n",
    "window.title('My Window')\n",
    " \n",
    "\n",
    "#window.geometry('521x577')  \n",
    "#window.geometry(\"{0}x{1}+0-100\".format(window.winfo_screenwidth(), window.winfo_screenheight())) \n",
    "\n",
    "canvas = tk.Canvas(window, bg='green', width=800, height=900)\n",
    "\n",
    "img = Image.open(cwd +'/board.gif')\n",
    "img = img.resize((800,900),Image.NEAREST)\n",
    "image_file = ImageTk.PhotoImage(img)\n",
    "\n",
    "\n",
    "image = canvas.create_image(0, 0, anchor='nw',image=image_file)        # 图片锚定点（n图片顶端的中间点位置）放在画布（250,0）坐标处\n",
    "\n",
    "\n",
    "x0, y0, x1, y1 = 100, 100, 150, 150\n",
    "line = canvas.create_line(x0-50, y0-50, x1-50, y1-50)                   # 画直线\n",
    "oval = canvas.create_oval(x0+120, y0+50, x1+120, y1+50, fill='yellow')  # 画圆 用黄色填充\n",
    "arc = canvas.create_arc(x0, y0+50, x1, y1+50, start=0, extent=180)      # 画扇形 从0度打开收到180度结束\n",
    "rect = canvas.create_rectangle(330, 30, 330+20, 30+20)                  # 画矩形正方形\n",
    "\n",
    "canvas.pack()\n",
    " \n",
    "\n",
    "window.mainloop()"
   ]
  },
  {
   "cell_type": "code",
   "execution_count": null,
   "metadata": {},
   "outputs": [],
   "source": []
  }
 ],
 "metadata": {
  "kernelspec": {
   "display_name": "Python 3",
   "language": "python",
   "name": "python3"
  },
  "language_info": {
   "codemirror_mode": {
    "name": "ipython",
    "version": 3
   },
   "file_extension": ".py",
   "mimetype": "text/x-python",
   "name": "python",
   "nbconvert_exporter": "python",
   "pygments_lexer": "ipython3",
   "version": "3.8.3"
  }
 },
 "nbformat": 4,
 "nbformat_minor": 4
}
